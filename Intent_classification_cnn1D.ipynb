{
 "cells": [
  {
   "cell_type": "code",
   "execution_count": 2,
   "metadata": {},
   "outputs": [],
   "source": [
    "import numpy as np\n",
    "import pandas as pd\n",
    "from nltk.corpus import stopwords\n",
    "from nltk.tokenize import word_tokenize\n",
    "from nltk.stem.lancaster import LancasterStemmer\n",
    "import nltk\n",
    "import re\n",
    "from sklearn.preprocessing import OneHotEncoder\n",
    "import matplotlib.pyplot as plt\n",
    "from keras.preprocessing.text import Tokenizer\n",
    "from keras.preprocessing.sequence import pad_sequences\n",
    "from keras.utils import to_categorical\n",
    "from keras.models import Sequential,Model, load_model\n",
    "from keras.layers import Dense, LSTM, Bidirectional, Embedding,Input\n",
    "from keras.layers import Dropout,GlobalAveragePooling1D,GlobalMaxPooling1D,concatenate,LeakyReLU\n",
    "from keras.layers import SpatialDropout1D,Conv1D,MaxPooling1D,GRU,BatchNormalization\n",
    "from keras.callbacks import ModelCheckpoint\n",
    "from tensorflow.keras import regularizers\n",
    "from tensorflow.keras import backend as K\n"
   ]
  },
  {
   "cell_type": "code",
   "execution_count": 4,
   "metadata": {},
   "outputs": [],
   "source": [
    "def load_data(filename):\n",
    "    df=pd.read_csv(filename,encoding='latin1',names=['Intent','Sentences'])\n",
    "    print(df.head())\n",
    "    intent=df['Intent']\n",
    "    unique_intent=list(set(intent))\n",
    "    sentences=list(df['Sentences'])\n",
    "    \n",
    "    return (intent,unique_intent,sentences)"
   ]
  },
  {
   "cell_type": "code",
   "execution_count": 5,
   "metadata": {},
   "outputs": [
    {
     "name": "stdout",
     "output_type": "stream",
     "text": [
      "             Intent                                          Sentences\n",
      "0       atis_flight   i want to fly from boston at 838 am and arriv...\n",
      "1       atis_flight   what flights are available from pittsburgh to...\n",
      "2  atis_flight_time   what is the arrival time in san francisco for...\n",
      "3      atis_airfare            cheapest airfare from tacoma to orlando\n",
      "4      atis_airfare   round trip fares from pittsburgh to philadelp...\n"
     ]
    }
   ],
   "source": [
    "intent,unique_intent,sentences=load_data('/home/administrator/Downloads/intent_classification/atis_intents_train.csv')"
   ]
  },
  {
   "cell_type": "code",
   "execution_count": 6,
   "metadata": {},
   "outputs": [
    {
     "data": {
      "text/plain": [
       "0            atis_flight\n",
       "1            atis_flight\n",
       "2       atis_flight_time\n",
       "3           atis_airfare\n",
       "4           atis_airfare\n",
       "              ...       \n",
       "4829        atis_airfare\n",
       "4830         atis_flight\n",
       "4831        atis_airline\n",
       "4832         atis_flight\n",
       "4833         atis_flight\n",
       "Name: Intent, Length: 4834, dtype: object"
      ]
     },
     "execution_count": 6,
     "metadata": {},
     "output_type": "execute_result"
    }
   ],
   "source": [
    "intent"
   ]
  },
  {
   "cell_type": "code",
   "execution_count": 7,
   "metadata": {},
   "outputs": [
    {
     "name": "stderr",
     "output_type": "stream",
     "text": [
      "[nltk_data] Downloading package stopwords to\n",
      "[nltk_data]     /home/administrator/nltk_data...\n",
      "[nltk_data]   Package stopwords is already up-to-date!\n",
      "[nltk_data] Downloading package punkt to\n",
      "[nltk_data]     /home/administrator/nltk_data...\n",
      "[nltk_data]   Package punkt is already up-to-date!\n"
     ]
    },
    {
     "data": {
      "text/plain": [
       "True"
      ]
     },
     "execution_count": 7,
     "metadata": {},
     "output_type": "execute_result"
    }
   ],
   "source": [
    "nltk.download('stopwords')\n",
    "nltk.download('punkt')"
   ]
  },
  {
   "cell_type": "code",
   "execution_count": 8,
   "metadata": {},
   "outputs": [],
   "source": [
    "stemmer=LancasterStemmer()\n",
    "stop_words = set(stopwords.words('english'))"
   ]
  },
  {
   "cell_type": "code",
   "execution_count": 9,
   "metadata": {},
   "outputs": [],
   "source": [
    "def cleaning(sentences):\n",
    "    words=[]\n",
    "    for s in sentences:\n",
    "        clean = re.sub(r'[^a-zA-Z0-9]', \" \",s)\n",
    "        w=word_tokenize(clean)\n",
    "        tokens_without_sw = [word for word in w if not word in stop_words]\n",
    "        words.append([stemmer.stem(i.lower()) for i in tokens_without_sw])\n",
    "\n",
    "    return words           "
   ]
  },
  {
   "cell_type": "code",
   "execution_count": 10,
   "metadata": {},
   "outputs": [
    {
     "name": "stdout",
     "output_type": "stream",
     "text": [
      "4834\n",
      "[['want', 'fly', 'boston', '838', 'ar', 'denv', '1110', 'morn'], ['flight', 'avail', 'pittsburgh', 'baltim', 'thursday', 'morn']]\n"
     ]
    }
   ],
   "source": [
    "cleaned_word=cleaning(sentences)\n",
    "print(len(cleaned_word))\n",
    "print(cleaned_word[:2])"
   ]
  },
  {
   "cell_type": "code",
   "execution_count": 11,
   "metadata": {},
   "outputs": [],
   "source": [
    "def creat_tokenizer(words,filters = '!\"#$%&()*+,-./:;<=>?@[\\]^_`{|}~'):\n",
    "    tocken=Tokenizer(filters=filters)\n",
    "    tocken.fit_on_texts(words)\n",
    "    return tocken"
   ]
  },
  {
   "cell_type": "code",
   "execution_count": 12,
   "metadata": {},
   "outputs": [],
   "source": [
    "def max_len(words):\n",
    "    return (len(max(words,key=len)))"
   ]
  },
  {
   "cell_type": "code",
   "execution_count": 13,
   "metadata": {},
   "outputs": [
    {
     "name": "stdout",
     "output_type": "stream",
     "text": [
      "Vocab Size= 630 and Max length= 30\n"
     ]
    }
   ],
   "source": [
    "word_tockenizer=creat_tokenizer(cleaned_word)\n",
    "vocab_size=len(word_tockenizer.word_index)+1\n",
    "max_len=max_len(cleaned_word)\n",
    "\n",
    "print(\"Vocab Size= %d and Max length= %d\" % (vocab_size,max_len))"
   ]
  },
  {
   "cell_type": "code",
   "execution_count": 14,
   "metadata": {},
   "outputs": [],
   "source": [
    "def encoding_doc(tocken,words):\n",
    "    return (tocken.texts_to_sequences(words))"
   ]
  },
  {
   "cell_type": "code",
   "execution_count": 15,
   "metadata": {},
   "outputs": [],
   "source": [
    "encoded_doc=encoding_doc(word_tockenizer,cleaned_word)"
   ]
  },
  {
   "cell_type": "code",
   "execution_count": 16,
   "metadata": {},
   "outputs": [
    {
     "data": {
      "text/plain": [
       "[[40, 20, 2, 290, 17, 5, 364, 21],\n",
       " [1, 35, 8, 10, 44, 21],\n",
       " [17, 101, 4, 6, 365, 1, 12, 18],\n",
       " [31, 212, 139, 89],\n",
       " [34, 29, 16, 8, 11, 176, 131]]"
      ]
     },
     "execution_count": 16,
     "metadata": {},
     "output_type": "execute_result"
    }
   ],
   "source": [
    "encoded_doc[:5]"
   ]
  },
  {
   "cell_type": "code",
   "execution_count": 17,
   "metadata": {},
   "outputs": [],
   "source": [
    "def padding_doc(encoded_doc,max_len):\n",
    "    return (pad_sequences(encoded_doc,maxlen=max_len,padding=\"post\"))"
   ]
  },
  {
   "cell_type": "code",
   "execution_count": 18,
   "metadata": {},
   "outputs": [],
   "source": [
    "padded_doc=padding_doc(encoded_doc,max_len)"
   ]
  },
  {
   "cell_type": "code",
   "execution_count": 19,
   "metadata": {},
   "outputs": [
    {
     "data": {
      "text/plain": [
       "array([[ 40,  20,   2, 290,  17,   5, 364,  21,   0,   0,   0,   0,   0,\n",
       "          0,   0,   0,   0,   0,   0,   0,   0,   0,   0,   0,   0,   0,\n",
       "          0,   0,   0,   0],\n",
       "       [  1,  35,   8,  10,  44,  21,   0,   0,   0,   0,   0,   0,   0,\n",
       "          0,   0,   0,   0,   0,   0,   0,   0,   0,   0,   0,   0,   0,\n",
       "          0,   0,   0,   0],\n",
       "       [ 17, 101,   4,   6, 365,   1,  12,  18,   0,   0,   0,   0,   0,\n",
       "          0,   0,   0,   0,   0,   0,   0,   0,   0,   0,   0,   0,   0,\n",
       "          0,   0,   0,   0],\n",
       "       [ 31, 212, 139,  89,   0,   0,   0,   0,   0,   0,   0,   0,   0,\n",
       "          0,   0,   0,   0,   0,   0,   0,   0,   0,   0,   0,   0,   0,\n",
       "          0,   0,   0,   0],\n",
       "       [ 34,  29,  16,   8,  11, 176, 131,   0,   0,   0,   0,   0,   0,\n",
       "          0,   0,   0,   0,   0,   0,   0,   0,   0,   0,   0,   0,   0,\n",
       "          0,   0,   0,   0]], dtype=int32)"
      ]
     },
     "execution_count": 19,
     "metadata": {},
     "output_type": "execute_result"
    }
   ],
   "source": [
    "padded_doc[:5]"
   ]
  },
  {
   "cell_type": "code",
   "execution_count": 20,
   "metadata": {},
   "outputs": [],
   "source": [
    "output_tokenizer = creat_tokenizer(unique_intent, filters = '!\"#$%&()*+,-/:;<=>?@[\\]^`{|}~')"
   ]
  },
  {
   "cell_type": "code",
   "execution_count": 21,
   "metadata": {},
   "outputs": [
    {
     "data": {
      "text/plain": [
       "{'atis_flight_time': 1,\n",
       " 'atis_aircraft': 2,\n",
       " 'atis_abbreviation': 3,\n",
       " 'atis_airfare': 4,\n",
       " 'atis_ground_service': 5,\n",
       " 'atis_flight': 6,\n",
       " 'atis_airline': 7,\n",
       " 'atis_quantity': 8}"
      ]
     },
     "execution_count": 21,
     "metadata": {},
     "output_type": "execute_result"
    }
   ],
   "source": [
    "output_tokenizer.word_index"
   ]
  },
  {
   "cell_type": "code",
   "execution_count": 22,
   "metadata": {},
   "outputs": [],
   "source": [
    "encoded_output = encoding_doc(output_tokenizer, intent)"
   ]
  },
  {
   "cell_type": "code",
   "execution_count": 23,
   "metadata": {},
   "outputs": [],
   "source": [
    "encoded_output = np.array(encoded_output).reshape(len(encoded_output), 1)"
   ]
  },
  {
   "cell_type": "code",
   "execution_count": 24,
   "metadata": {},
   "outputs": [
    {
     "data": {
      "text/plain": [
       "(4834, 1)"
      ]
     },
     "execution_count": 24,
     "metadata": {},
     "output_type": "execute_result"
    }
   ],
   "source": [
    "encoded_output.shape"
   ]
  },
  {
   "cell_type": "code",
   "execution_count": 25,
   "metadata": {},
   "outputs": [],
   "source": [
    "def one_hot(encode):\n",
    "    o = OneHotEncoder(sparse = False)\n",
    "    return(o.fit_transform(encode))"
   ]
  },
  {
   "cell_type": "code",
   "execution_count": 26,
   "metadata": {},
   "outputs": [],
   "source": [
    "output_one_hot=one_hot(encoded_output)"
   ]
  },
  {
   "cell_type": "code",
   "execution_count": 27,
   "metadata": {},
   "outputs": [],
   "source": [
    "from sklearn.model_selection import train_test_split"
   ]
  },
  {
   "cell_type": "code",
   "execution_count": 28,
   "metadata": {},
   "outputs": [],
   "source": [
    "train_X, val_X, train_Y, val_Y = train_test_split(padded_doc, output_one_hot, shuffle = True, test_size = 0.2)"
   ]
  },
  {
   "cell_type": "code",
   "execution_count": 29,
   "metadata": {},
   "outputs": [
    {
     "name": "stdout",
     "output_type": "stream",
     "text": [
      "shape of train_X = (3867, 30) and train_Y = (3867, 8)\n",
      "shape of val_X=(967, 30) and val_Y=(967, 8)\n"
     ]
    }
   ],
   "source": [
    "print(\"shape of train_X = %s and train_Y = %s\" % (train_X.shape,train_Y.shape))\n",
    "print(\"shape of val_X=%s and val_Y=%s\"%(val_X.shape,val_Y.shape))"
   ]
  },
  {
   "cell_type": "code",
   "execution_count": 27,
   "metadata": {},
   "outputs": [],
   "source": [
    "def create_model(vocab_size, max_length):\n",
    "      model = Sequential()\n",
    "      model.add(Embedding(vocab_size,128, input_length = max_length, trainable = False))\n",
    "      model.add(SpatialDropout1D(0.5))\n",
    "      model.add(Conv1D(filters=32, kernel_size=8,kernel_regularizer=regularizers.l2(0.00001), padding='same'))\n",
    "      model.add(LeakyReLU(alpha=0.2))\n",
    "      model.add(MaxPooling1D(pool_size=2))\n",
    "      model.add(Bidirectional(LSTM(128,dropout=0.5, recurrent_dropout=0.5,return_sequences=True)))\n",
    "      model.add(SpatialDropout1D(0.5))\n",
    "      model.add(Conv1D(filters=32, kernel_size=8,kernel_regularizer=regularizers.l2(0.00001), padding='same'))\n",
    "      model.add(LeakyReLU(alpha=0.2))\n",
    "      model.add(MaxPooling1D(pool_size=2))\n",
    "      model.add(Bidirectional(LSTM(128,dropout=0.5, recurrent_dropout=0.5)))\n",
    "      model.add(Dense(8,activation='softmax'))\n",
    "      \n",
    "\n",
    "      return model"
   ]
  },
  {
   "cell_type": "code",
   "execution_count": 28,
   "metadata": {},
   "outputs": [
    {
     "name": "stdout",
     "output_type": "stream",
     "text": [
      "Model: \"sequential\"\n",
      "_________________________________________________________________\n",
      "Layer (type)                 Output Shape              Param #   \n",
      "=================================================================\n",
      "embedding (Embedding)        (None, 30, 128)           80640     \n",
      "_________________________________________________________________\n",
      "spatial_dropout1d (SpatialDr (None, 30, 128)           0         \n",
      "_________________________________________________________________\n",
      "conv1d (Conv1D)              (None, 30, 32)            32800     \n",
      "_________________________________________________________________\n",
      "leaky_re_lu (LeakyReLU)      (None, 30, 32)            0         \n",
      "_________________________________________________________________\n",
      "max_pooling1d (MaxPooling1D) (None, 15, 32)            0         \n",
      "_________________________________________________________________\n",
      "bidirectional (Bidirectional (None, 15, 256)           164864    \n",
      "_________________________________________________________________\n",
      "spatial_dropout1d_1 (Spatial (None, 15, 256)           0         \n",
      "_________________________________________________________________\n",
      "conv1d_1 (Conv1D)            (None, 15, 32)            65568     \n",
      "_________________________________________________________________\n",
      "leaky_re_lu_1 (LeakyReLU)    (None, 15, 32)            0         \n",
      "_________________________________________________________________\n",
      "max_pooling1d_1 (MaxPooling1 (None, 7, 32)             0         \n",
      "_________________________________________________________________\n",
      "bidirectional_1 (Bidirection (None, 256)               164864    \n",
      "_________________________________________________________________\n",
      "dense (Dense)                (None, 8)                 2056      \n",
      "=================================================================\n",
      "Total params: 510,792\n",
      "Trainable params: 430,152\n",
      "Non-trainable params: 80,640\n",
      "_________________________________________________________________\n"
     ]
    }
   ],
   "source": [
    "model = create_model(vocab_size, max_len)\n",
    "\n",
    "model.compile(loss = \"categorical_crossentropy\", optimizer = \"adam\", metrics = [\"accuracy\"])\n",
    "model.summary()\n"
   ]
  },
  {
   "cell_type": "code",
   "execution_count": 29,
   "metadata": {},
   "outputs": [
    {
     "name": "stdout",
     "output_type": "stream",
     "text": [
      "Epoch 1/100\n",
      "121/121 [==============================] - 27s 126ms/step - loss: 1.1807 - accuracy: 0.7356 - val_loss: 0.9363 - val_accuracy: 0.7715\n",
      "\n",
      "Epoch 00001: val_loss improved from inf to 0.93633, saving model to model.h5\n",
      "Epoch 2/100\n",
      "121/121 [==============================] - 12s 98ms/step - loss: 1.0058 - accuracy: 0.7471 - val_loss: 0.7301 - val_accuracy: 0.7921\n",
      "\n",
      "Epoch 00002: val_loss improved from 0.93633 to 0.73015, saving model to model.h5\n",
      "Epoch 3/100\n",
      "121/121 [==============================] - 12s 103ms/step - loss: 0.7164 - accuracy: 0.7841 - val_loss: 0.5872 - val_accuracy: 0.8190\n",
      "\n",
      "Epoch 00003: val_loss improved from 0.73015 to 0.58720, saving model to model.h5\n",
      "Epoch 4/100\n",
      "121/121 [==============================] - 16s 133ms/step - loss: 0.6424 - accuracy: 0.8148 - val_loss: 0.5744 - val_accuracy: 0.8242\n",
      "\n",
      "Epoch 00004: val_loss improved from 0.58720 to 0.57440, saving model to model.h5\n",
      "Epoch 5/100\n",
      "121/121 [==============================] - 14s 118ms/step - loss: 0.5890 - accuracy: 0.8318 - val_loss: 0.4780 - val_accuracy: 0.8718\n",
      "\n",
      "Epoch 00005: val_loss improved from 0.57440 to 0.47804, saving model to model.h5\n",
      "Epoch 6/100\n",
      "121/121 [==============================] - 12s 100ms/step - loss: 0.5322 - accuracy: 0.8571 - val_loss: 0.4415 - val_accuracy: 0.8904\n",
      "\n",
      "Epoch 00006: val_loss improved from 0.47804 to 0.44151, saving model to model.h5\n",
      "Epoch 7/100\n",
      "121/121 [==============================] - 11s 94ms/step - loss: 0.4614 - accuracy: 0.8782 - val_loss: 0.3854 - val_accuracy: 0.8987\n",
      "\n",
      "Epoch 00007: val_loss improved from 0.44151 to 0.38544, saving model to model.h5\n",
      "Epoch 8/100\n",
      "121/121 [==============================] - 12s 101ms/step - loss: 0.4416 - accuracy: 0.8871 - val_loss: 0.3590 - val_accuracy: 0.9007\n",
      "\n",
      "Epoch 00008: val_loss improved from 0.38544 to 0.35903, saving model to model.h5\n",
      "Epoch 9/100\n",
      "121/121 [==============================] - 12s 100ms/step - loss: 0.3954 - accuracy: 0.8933 - val_loss: 0.3567 - val_accuracy: 0.8976\n",
      "\n",
      "Epoch 00009: val_loss improved from 0.35903 to 0.35671, saving model to model.h5\n",
      "Epoch 10/100\n",
      "121/121 [==============================] - 12s 101ms/step - loss: 0.3830 - accuracy: 0.8890 - val_loss: 0.3486 - val_accuracy: 0.9028\n",
      "\n",
      "Epoch 00010: val_loss improved from 0.35671 to 0.34855, saving model to model.h5\n",
      "Epoch 11/100\n",
      "121/121 [==============================] - 11s 95ms/step - loss: 0.3683 - accuracy: 0.8986 - val_loss: 0.3231 - val_accuracy: 0.8997\n",
      "\n",
      "Epoch 00011: val_loss improved from 0.34855 to 0.32310, saving model to model.h5\n",
      "Epoch 12/100\n",
      "121/121 [==============================] - 12s 100ms/step - loss: 0.3271 - accuracy: 0.9060 - val_loss: 0.2925 - val_accuracy: 0.9255\n",
      "\n",
      "Epoch 00012: val_loss improved from 0.32310 to 0.29252, saving model to model.h5\n",
      "Epoch 13/100\n",
      "121/121 [==============================] - 11s 92ms/step - loss: 0.3359 - accuracy: 0.9079 - val_loss: 0.2772 - val_accuracy: 0.9317\n",
      "\n",
      "Epoch 00013: val_loss improved from 0.29252 to 0.27717, saving model to model.h5\n",
      "Epoch 14/100\n",
      "121/121 [==============================] - 11s 93ms/step - loss: 0.2855 - accuracy: 0.9212 - val_loss: 0.2806 - val_accuracy: 0.9183\n",
      "\n",
      "Epoch 00014: val_loss did not improve from 0.27717\n",
      "Epoch 15/100\n",
      "121/121 [==============================] - 11s 92ms/step - loss: 0.2850 - accuracy: 0.9177 - val_loss: 0.2572 - val_accuracy: 0.9338\n",
      "\n",
      "Epoch 00015: val_loss improved from 0.27717 to 0.25715, saving model to model.h5\n",
      "Epoch 16/100\n",
      "121/121 [==============================] - 12s 96ms/step - loss: 0.2810 - accuracy: 0.9230 - val_loss: 0.2356 - val_accuracy: 0.9349\n",
      "\n",
      "Epoch 00016: val_loss improved from 0.25715 to 0.23563, saving model to model.h5\n",
      "Epoch 17/100\n",
      "121/121 [==============================] - 11s 93ms/step - loss: 0.2923 - accuracy: 0.9201 - val_loss: 0.2293 - val_accuracy: 0.9359\n",
      "\n",
      "Epoch 00017: val_loss improved from 0.23563 to 0.22931, saving model to model.h5\n",
      "Epoch 18/100\n",
      "121/121 [==============================] - 12s 96ms/step - loss: 0.2833 - accuracy: 0.9237 - val_loss: 0.2224 - val_accuracy: 0.9380\n",
      "\n",
      "Epoch 00018: val_loss improved from 0.22931 to 0.22238, saving model to model.h5\n",
      "Epoch 19/100\n",
      "121/121 [==============================] - 12s 99ms/step - loss: 0.2428 - accuracy: 0.9340 - val_loss: 0.2361 - val_accuracy: 0.9349\n",
      "\n",
      "Epoch 00019: val_loss did not improve from 0.22238\n",
      "Epoch 20/100\n",
      "121/121 [==============================] - 12s 99ms/step - loss: 0.2403 - accuracy: 0.9324 - val_loss: 0.1956 - val_accuracy: 0.9473\n",
      "\n",
      "Epoch 00020: val_loss improved from 0.22238 to 0.19556, saving model to model.h5\n",
      "Epoch 21/100\n",
      "121/121 [==============================] - 11s 93ms/step - loss: 0.2095 - accuracy: 0.9388 - val_loss: 0.1740 - val_accuracy: 0.9545\n",
      "\n",
      "Epoch 00021: val_loss improved from 0.19556 to 0.17399, saving model to model.h5\n",
      "Epoch 22/100\n",
      "121/121 [==============================] - 12s 97ms/step - loss: 0.2077 - accuracy: 0.9395 - val_loss: 0.1819 - val_accuracy: 0.9493\n",
      "\n",
      "Epoch 00022: val_loss did not improve from 0.17399\n",
      "Epoch 23/100\n",
      "121/121 [==============================] - 12s 97ms/step - loss: 0.2195 - accuracy: 0.9373 - val_loss: 0.1815 - val_accuracy: 0.9483\n",
      "\n",
      "Epoch 00023: val_loss did not improve from 0.17399\n",
      "Epoch 24/100\n",
      "121/121 [==============================] - 12s 95ms/step - loss: 0.2008 - accuracy: 0.9433 - val_loss: 0.1859 - val_accuracy: 0.9493\n",
      "\n",
      "Epoch 00024: val_loss did not improve from 0.17399\n",
      "Epoch 25/100\n",
      "121/121 [==============================] - 11s 93ms/step - loss: 0.1889 - accuracy: 0.9510 - val_loss: 0.1568 - val_accuracy: 0.9504\n",
      "\n",
      "Epoch 00025: val_loss improved from 0.17399 to 0.15682, saving model to model.h5\n",
      "Epoch 26/100\n",
      "121/121 [==============================] - 11s 93ms/step - loss: 0.1884 - accuracy: 0.9475 - val_loss: 0.1818 - val_accuracy: 0.9597\n",
      "\n",
      "Epoch 00026: val_loss did not improve from 0.15682\n",
      "Epoch 27/100\n",
      "121/121 [==============================] - 12s 96ms/step - loss: 0.1770 - accuracy: 0.9460 - val_loss: 0.1708 - val_accuracy: 0.9535\n",
      "\n",
      "Epoch 00027: val_loss did not improve from 0.15682\n",
      "Epoch 28/100\n",
      "121/121 [==============================] - 11s 95ms/step - loss: 0.1704 - accuracy: 0.9525 - val_loss: 0.1820 - val_accuracy: 0.9493\n",
      "\n",
      "Epoch 00028: val_loss did not improve from 0.15682\n",
      "Epoch 29/100\n",
      "121/121 [==============================] - 11s 91ms/step - loss: 0.1656 - accuracy: 0.9505 - val_loss: 0.1485 - val_accuracy: 0.9576\n",
      "\n",
      "Epoch 00029: val_loss improved from 0.15682 to 0.14849, saving model to model.h5\n",
      "Epoch 30/100\n",
      "121/121 [==============================] - 12s 95ms/step - loss: 0.1423 - accuracy: 0.9565 - val_loss: 0.1573 - val_accuracy: 0.9597\n",
      "\n",
      "Epoch 00030: val_loss did not improve from 0.14849\n",
      "Epoch 31/100\n",
      "121/121 [==============================] - 11s 91ms/step - loss: 0.1455 - accuracy: 0.9584 - val_loss: 0.1527 - val_accuracy: 0.9535\n",
      "\n",
      "Epoch 00031: val_loss did not improve from 0.14849\n",
      "Epoch 32/100\n",
      "121/121 [==============================] - 11s 92ms/step - loss: 0.1427 - accuracy: 0.9543 - val_loss: 0.1720 - val_accuracy: 0.9504\n",
      "\n",
      "Epoch 00032: val_loss did not improve from 0.14849\n",
      "Epoch 33/100\n",
      "121/121 [==============================] - 11s 91ms/step - loss: 0.1564 - accuracy: 0.9599 - val_loss: 0.1309 - val_accuracy: 0.9638\n",
      "\n",
      "Epoch 00033: val_loss improved from 0.14849 to 0.13092, saving model to model.h5\n",
      "Epoch 34/100\n",
      "121/121 [==============================] - 11s 92ms/step - loss: 0.1450 - accuracy: 0.9596 - val_loss: 0.1318 - val_accuracy: 0.9679\n",
      "\n",
      "Epoch 00034: val_loss did not improve from 0.13092\n",
      "Epoch 35/100\n",
      "121/121 [==============================] - 11s 91ms/step - loss: 0.1453 - accuracy: 0.9619 - val_loss: 0.1151 - val_accuracy: 0.9700\n",
      "\n",
      "Epoch 00035: val_loss improved from 0.13092 to 0.11514, saving model to model.h5\n",
      "Epoch 36/100\n",
      "121/121 [==============================] - 11s 91ms/step - loss: 0.1246 - accuracy: 0.9671 - val_loss: 0.1230 - val_accuracy: 0.9628\n",
      "\n",
      "Epoch 00036: val_loss did not improve from 0.11514\n",
      "Epoch 37/100\n",
      "121/121 [==============================] - 11s 95ms/step - loss: 0.1310 - accuracy: 0.9632 - val_loss: 0.1207 - val_accuracy: 0.9669\n",
      "\n",
      "Epoch 00037: val_loss did not improve from 0.11514\n",
      "Epoch 38/100\n",
      "121/121 [==============================] - 12s 98ms/step - loss: 0.1287 - accuracy: 0.9630 - val_loss: 0.1547 - val_accuracy: 0.9607\n",
      "\n",
      "Epoch 00038: val_loss did not improve from 0.11514\n",
      "Epoch 39/100\n",
      "121/121 [==============================] - 12s 95ms/step - loss: 0.1304 - accuracy: 0.9631 - val_loss: 0.1372 - val_accuracy: 0.9628\n",
      "\n",
      "Epoch 00039: val_loss did not improve from 0.11514\n",
      "Epoch 40/100\n",
      "121/121 [==============================] - 11s 92ms/step - loss: 0.1162 - accuracy: 0.9660 - val_loss: 0.1161 - val_accuracy: 0.9700\n",
      "\n",
      "Epoch 00040: val_loss did not improve from 0.11514\n",
      "Epoch 41/100\n",
      "121/121 [==============================] - 11s 92ms/step - loss: 0.1413 - accuracy: 0.9609 - val_loss: 0.1204 - val_accuracy: 0.9669\n",
      "\n",
      "Epoch 00041: val_loss did not improve from 0.11514\n",
      "Epoch 42/100\n",
      "121/121 [==============================] - 13s 105ms/step - loss: 0.0874 - accuracy: 0.9780 - val_loss: 0.1340 - val_accuracy: 0.9710\n",
      "\n",
      "Epoch 00042: val_loss did not improve from 0.11514\n",
      "Epoch 43/100\n",
      "121/121 [==============================] - 16s 132ms/step - loss: 0.1108 - accuracy: 0.9715 - val_loss: 0.1325 - val_accuracy: 0.9700\n",
      "\n",
      "Epoch 00043: val_loss did not improve from 0.11514\n",
      "Epoch 44/100\n",
      "121/121 [==============================] - 17s 142ms/step - loss: 0.1145 - accuracy: 0.9733 - val_loss: 0.1186 - val_accuracy: 0.9617\n",
      "\n",
      "Epoch 00044: val_loss did not improve from 0.11514\n",
      "Epoch 45/100\n",
      "121/121 [==============================] - 13s 107ms/step - loss: 0.1007 - accuracy: 0.9675 - val_loss: 0.1073 - val_accuracy: 0.9690\n",
      "\n",
      "Epoch 00045: val_loss improved from 0.11514 to 0.10731, saving model to model.h5\n",
      "Epoch 46/100\n",
      "121/121 [==============================] - 12s 103ms/step - loss: 0.0995 - accuracy: 0.9698 - val_loss: 0.1070 - val_accuracy: 0.9762\n",
      "\n",
      "Epoch 00046: val_loss improved from 0.10731 to 0.10702, saving model to model.h5\n",
      "Epoch 47/100\n",
      "121/121 [==============================] - 11s 93ms/step - loss: 0.0967 - accuracy: 0.9709 - val_loss: 0.1172 - val_accuracy: 0.9669\n",
      "\n",
      "Epoch 00047: val_loss did not improve from 0.10702\n",
      "Epoch 48/100\n",
      "121/121 [==============================] - 13s 110ms/step - loss: 0.1153 - accuracy: 0.9663 - val_loss: 0.1023 - val_accuracy: 0.9679\n",
      "\n",
      "Epoch 00048: val_loss improved from 0.10702 to 0.10233, saving model to model.h5\n",
      "Epoch 49/100\n",
      "121/121 [==============================] - 13s 105ms/step - loss: 0.1008 - accuracy: 0.9735 - val_loss: 0.0991 - val_accuracy: 0.9721\n",
      "\n",
      "Epoch 00049: val_loss improved from 0.10233 to 0.09914, saving model to model.h5\n",
      "Epoch 50/100\n",
      "121/121 [==============================] - 12s 99ms/step - loss: 0.0928 - accuracy: 0.9741 - val_loss: 0.1267 - val_accuracy: 0.9700\n",
      "\n",
      "Epoch 00050: val_loss did not improve from 0.09914\n",
      "Epoch 51/100\n",
      "121/121 [==============================] - 11s 94ms/step - loss: 0.0807 - accuracy: 0.9779 - val_loss: 0.1154 - val_accuracy: 0.9700\n",
      "\n",
      "Epoch 00051: val_loss did not improve from 0.09914\n",
      "Epoch 52/100\n",
      "121/121 [==============================] - 11s 91ms/step - loss: 0.0929 - accuracy: 0.9746 - val_loss: 0.1213 - val_accuracy: 0.9741\n",
      "\n",
      "Epoch 00052: val_loss did not improve from 0.09914\n",
      "Epoch 53/100\n",
      "121/121 [==============================] - 11s 91ms/step - loss: 0.1070 - accuracy: 0.9659 - val_loss: 0.0995 - val_accuracy: 0.9762\n",
      "\n",
      "Epoch 00053: val_loss did not improve from 0.09914\n",
      "Epoch 54/100\n",
      "121/121 [==============================] - 11s 92ms/step - loss: 0.1088 - accuracy: 0.9679 - val_loss: 0.1021 - val_accuracy: 0.9741\n",
      "\n",
      "Epoch 00054: val_loss did not improve from 0.09914\n",
      "Epoch 55/100\n",
      "121/121 [==============================] - 12s 96ms/step - loss: 0.0777 - accuracy: 0.9803 - val_loss: 0.0939 - val_accuracy: 0.9793\n",
      "\n",
      "Epoch 00055: val_loss improved from 0.09914 to 0.09388, saving model to model.h5\n",
      "Epoch 56/100\n",
      "121/121 [==============================] - 11s 91ms/step - loss: 0.1067 - accuracy: 0.9737 - val_loss: 0.1118 - val_accuracy: 0.9700\n",
      "\n",
      "Epoch 00056: val_loss did not improve from 0.09388\n",
      "Epoch 57/100\n",
      "121/121 [==============================] - 12s 99ms/step - loss: 0.0768 - accuracy: 0.9752 - val_loss: 0.1121 - val_accuracy: 0.9700\n",
      "\n",
      "Epoch 00057: val_loss did not improve from 0.09388\n",
      "Epoch 58/100\n",
      "121/121 [==============================] - 11s 94ms/step - loss: 0.0924 - accuracy: 0.9751 - val_loss: 0.1160 - val_accuracy: 0.9679\n",
      "\n",
      "Epoch 00058: val_loss did not improve from 0.09388\n",
      "Epoch 59/100\n",
      "121/121 [==============================] - 16s 130ms/step - loss: 0.0830 - accuracy: 0.9772 - val_loss: 0.1070 - val_accuracy: 0.9762\n",
      "\n",
      "Epoch 00059: val_loss did not improve from 0.09388\n",
      "Epoch 60/100\n",
      "121/121 [==============================] - 16s 131ms/step - loss: 0.0773 - accuracy: 0.9783 - val_loss: 0.1142 - val_accuracy: 0.9741\n",
      "\n",
      "Epoch 00060: val_loss did not improve from 0.09388\n",
      "Epoch 61/100\n",
      "121/121 [==============================] - 17s 143ms/step - loss: 0.0883 - accuracy: 0.9760 - val_loss: 0.1137 - val_accuracy: 0.9741\n",
      "\n",
      "Epoch 00061: val_loss did not improve from 0.09388\n",
      "Epoch 62/100\n",
      "121/121 [==============================] - 15s 121ms/step - loss: 0.0701 - accuracy: 0.9801 - val_loss: 0.0932 - val_accuracy: 0.9762\n",
      "\n",
      "Epoch 00062: val_loss improved from 0.09388 to 0.09322, saving model to model.h5\n",
      "Epoch 63/100\n",
      "121/121 [==============================] - 14s 120ms/step - loss: 0.0726 - accuracy: 0.9814 - val_loss: 0.1089 - val_accuracy: 0.9762\n",
      "\n",
      "Epoch 00063: val_loss did not improve from 0.09322\n",
      "Epoch 64/100\n",
      "121/121 [==============================] - 13s 111ms/step - loss: 0.0737 - accuracy: 0.9795 - val_loss: 0.1079 - val_accuracy: 0.9772\n",
      "\n",
      "Epoch 00064: val_loss did not improve from 0.09322\n",
      "Epoch 65/100\n",
      "121/121 [==============================] - 12s 99ms/step - loss: 0.0906 - accuracy: 0.9733 - val_loss: 0.1148 - val_accuracy: 0.9731\n",
      "\n",
      "Epoch 00065: val_loss did not improve from 0.09322\n",
      "Epoch 66/100\n",
      "121/121 [==============================] - 12s 96ms/step - loss: 0.0735 - accuracy: 0.9800 - val_loss: 0.1115 - val_accuracy: 0.9690\n",
      "\n",
      "Epoch 00066: val_loss did not improve from 0.09322\n",
      "Epoch 67/100\n",
      "121/121 [==============================] - 13s 111ms/step - loss: 0.0847 - accuracy: 0.9762 - val_loss: 0.1184 - val_accuracy: 0.9669\n",
      "\n",
      "Epoch 00067: val_loss did not improve from 0.09322\n",
      "Epoch 68/100\n",
      "121/121 [==============================] - 12s 100ms/step - loss: 0.0644 - accuracy: 0.9841 - val_loss: 0.1091 - val_accuracy: 0.9721\n",
      "\n",
      "Epoch 00068: val_loss did not improve from 0.09322\n",
      "Epoch 69/100\n",
      "121/121 [==============================] - 11s 93ms/step - loss: 0.0560 - accuracy: 0.9837 - val_loss: 0.1046 - val_accuracy: 0.9783\n",
      "\n",
      "Epoch 00069: val_loss did not improve from 0.09322\n",
      "Epoch 70/100\n",
      "121/121 [==============================] - 12s 101ms/step - loss: 0.0854 - accuracy: 0.9755 - val_loss: 0.0966 - val_accuracy: 0.9741\n",
      "\n",
      "Epoch 00070: val_loss did not improve from 0.09322\n",
      "Epoch 71/100\n",
      "121/121 [==============================] - 12s 97ms/step - loss: 0.0708 - accuracy: 0.9813 - val_loss: 0.1109 - val_accuracy: 0.9793\n",
      "\n",
      "Epoch 00071: val_loss did not improve from 0.09322\n",
      "Epoch 72/100\n",
      "121/121 [==============================] - 13s 104ms/step - loss: 0.0698 - accuracy: 0.9797 - val_loss: 0.1169 - val_accuracy: 0.9783\n",
      "\n",
      "Epoch 00072: val_loss did not improve from 0.09322\n",
      "Epoch 73/100\n",
      "121/121 [==============================] - 11s 93ms/step - loss: 0.0682 - accuracy: 0.9806 - val_loss: 0.1147 - val_accuracy: 0.9772\n",
      "\n",
      "Epoch 00073: val_loss did not improve from 0.09322\n",
      "Epoch 74/100\n",
      "121/121 [==============================] - 12s 98ms/step - loss: 0.0638 - accuracy: 0.9873 - val_loss: 0.0935 - val_accuracy: 0.9783\n",
      "\n",
      "Epoch 00074: val_loss did not improve from 0.09322\n",
      "Epoch 75/100\n",
      "121/121 [==============================] - 12s 100ms/step - loss: 0.0880 - accuracy: 0.9777 - val_loss: 0.1067 - val_accuracy: 0.9741\n",
      "\n",
      "Epoch 00075: val_loss did not improve from 0.09322\n",
      "Epoch 76/100\n",
      "121/121 [==============================] - 12s 98ms/step - loss: 0.0729 - accuracy: 0.9795 - val_loss: 0.1077 - val_accuracy: 0.9752\n",
      "\n",
      "Epoch 00076: val_loss did not improve from 0.09322\n",
      "Epoch 77/100\n",
      "121/121 [==============================] - 12s 100ms/step - loss: 0.0788 - accuracy: 0.9803 - val_loss: 0.1004 - val_accuracy: 0.9762\n",
      "\n",
      "Epoch 00077: val_loss did not improve from 0.09322\n",
      "Epoch 78/100\n",
      "121/121 [==============================] - 12s 101ms/step - loss: 0.0637 - accuracy: 0.9874 - val_loss: 0.0894 - val_accuracy: 0.9772\n",
      "\n",
      "Epoch 00078: val_loss improved from 0.09322 to 0.08944, saving model to model.h5\n",
      "Epoch 79/100\n",
      "121/121 [==============================] - 12s 101ms/step - loss: 0.0686 - accuracy: 0.9789 - val_loss: 0.0923 - val_accuracy: 0.9741\n",
      "\n",
      "Epoch 00079: val_loss did not improve from 0.08944\n",
      "Epoch 80/100\n",
      "121/121 [==============================] - 11s 95ms/step - loss: 0.0609 - accuracy: 0.9850 - val_loss: 0.0931 - val_accuracy: 0.9793\n",
      "\n",
      "Epoch 00080: val_loss did not improve from 0.08944\n",
      "Epoch 81/100\n",
      "121/121 [==============================] - 12s 103ms/step - loss: 0.0578 - accuracy: 0.9865 - val_loss: 0.0954 - val_accuracy: 0.9772\n",
      "\n",
      "Epoch 00081: val_loss did not improve from 0.08944\n",
      "Epoch 82/100\n",
      "121/121 [==============================] - 12s 99ms/step - loss: 0.0767 - accuracy: 0.9777 - val_loss: 0.1089 - val_accuracy: 0.9783\n",
      "\n",
      "Epoch 00082: val_loss did not improve from 0.08944\n",
      "Epoch 83/100\n",
      "121/121 [==============================] - 12s 100ms/step - loss: 0.0719 - accuracy: 0.9813 - val_loss: 0.0928 - val_accuracy: 0.9814\n",
      "\n",
      "Epoch 00083: val_loss did not improve from 0.08944\n",
      "Epoch 84/100\n",
      "121/121 [==============================] - 13s 108ms/step - loss: 0.0598 - accuracy: 0.9845 - val_loss: 0.1007 - val_accuracy: 0.9772\n",
      "\n",
      "Epoch 00084: val_loss did not improve from 0.08944\n",
      "Epoch 85/100\n",
      "121/121 [==============================] - 12s 97ms/step - loss: 0.0582 - accuracy: 0.9838 - val_loss: 0.1024 - val_accuracy: 0.9762\n",
      "\n",
      "Epoch 00085: val_loss did not improve from 0.08944\n",
      "Epoch 86/100\n",
      "121/121 [==============================] - 12s 101ms/step - loss: 0.0677 - accuracy: 0.9818 - val_loss: 0.1050 - val_accuracy: 0.9762\n",
      "\n",
      "Epoch 00086: val_loss did not improve from 0.08944\n",
      "Epoch 87/100\n",
      "121/121 [==============================] - 13s 107ms/step - loss: 0.0550 - accuracy: 0.9863 - val_loss: 0.0892 - val_accuracy: 0.9772\n",
      "\n",
      "Epoch 00087: val_loss improved from 0.08944 to 0.08919, saving model to model.h5\n",
      "Epoch 88/100\n",
      "121/121 [==============================] - 12s 97ms/step - loss: 0.0733 - accuracy: 0.9800 - val_loss: 0.1023 - val_accuracy: 0.9793\n",
      "\n",
      "Epoch 00088: val_loss did not improve from 0.08919\n",
      "Epoch 89/100\n",
      "121/121 [==============================] - 13s 108ms/step - loss: 0.0640 - accuracy: 0.9821 - val_loss: 0.1283 - val_accuracy: 0.9752\n",
      "\n",
      "Epoch 00089: val_loss did not improve from 0.08919\n",
      "Epoch 90/100\n",
      "121/121 [==============================] - 13s 111ms/step - loss: 0.0600 - accuracy: 0.9835 - val_loss: 0.0905 - val_accuracy: 0.9804\n",
      "\n",
      "Epoch 00090: val_loss did not improve from 0.08919\n",
      "Epoch 91/100\n",
      "121/121 [==============================] - 15s 127ms/step - loss: 0.0475 - accuracy: 0.9901 - val_loss: 0.0938 - val_accuracy: 0.9741\n",
      "\n",
      "Epoch 00091: val_loss did not improve from 0.08919\n",
      "Epoch 92/100\n",
      "121/121 [==============================] - 13s 111ms/step - loss: 0.0599 - accuracy: 0.9847 - val_loss: 0.0895 - val_accuracy: 0.9752\n",
      "\n",
      "Epoch 00092: val_loss did not improve from 0.08919\n",
      "Epoch 93/100\n",
      "121/121 [==============================] - 12s 103ms/step - loss: 0.0685 - accuracy: 0.9784 - val_loss: 0.1088 - val_accuracy: 0.9772\n",
      "\n",
      "Epoch 00093: val_loss did not improve from 0.08919\n",
      "Epoch 94/100\n",
      "121/121 [==============================] - 12s 98ms/step - loss: 0.0624 - accuracy: 0.9815 - val_loss: 0.0825 - val_accuracy: 0.9804\n",
      "\n",
      "Epoch 00094: val_loss improved from 0.08919 to 0.08248, saving model to model.h5\n",
      "Epoch 95/100\n",
      "121/121 [==============================] - 12s 103ms/step - loss: 0.0547 - accuracy: 0.9855 - val_loss: 0.1105 - val_accuracy: 0.9762\n",
      "\n",
      "Epoch 00095: val_loss did not improve from 0.08248\n",
      "Epoch 96/100\n",
      "121/121 [==============================] - 13s 111ms/step - loss: 0.0474 - accuracy: 0.9887 - val_loss: 0.0840 - val_accuracy: 0.9845\n",
      "\n",
      "Epoch 00096: val_loss did not improve from 0.08248\n",
      "Epoch 97/100\n",
      "121/121 [==============================] - 13s 109ms/step - loss: 0.0413 - accuracy: 0.9943 - val_loss: 0.1271 - val_accuracy: 0.9783\n",
      "\n",
      "Epoch 00097: val_loss did not improve from 0.08248\n",
      "Epoch 98/100\n",
      "121/121 [==============================] - 13s 110ms/step - loss: 0.0495 - accuracy: 0.9886 - val_loss: 0.1159 - val_accuracy: 0.9783\n",
      "\n",
      "Epoch 00098: val_loss did not improve from 0.08248\n",
      "Epoch 99/100\n",
      "121/121 [==============================] - 13s 104ms/step - loss: 0.0679 - accuracy: 0.9827 - val_loss: 0.0843 - val_accuracy: 0.9804\n",
      "\n",
      "Epoch 00099: val_loss did not improve from 0.08248\n",
      "Epoch 100/100\n",
      "121/121 [==============================] - 13s 104ms/step - loss: 0.0431 - accuracy: 0.9903 - val_loss: 0.1133 - val_accuracy: 0.9793\n",
      "\n",
      "Epoch 00100: val_loss did not improve from 0.08248\n"
     ]
    }
   ],
   "source": [
    "filename = 'model.h5'\n",
    "checkpoint = ModelCheckpoint(filename, monitor='val_loss', verbose=1, save_best_only=True, mode='min')\n",
    "\n",
    "hist = model.fit(train_X, train_Y, epochs = 100, batch_size = 32, validation_data = (val_X, val_Y), callbacks = [checkpoint])"
   ]
  },
  {
   "cell_type": "code",
   "execution_count": 34,
   "metadata": {},
   "outputs": [],
   "source": [
    "model=load_model(\"model.h5\")"
   ]
  },
  {
   "cell_type": "code",
   "execution_count": 35,
   "metadata": {},
   "outputs": [],
   "source": [
    "def predictions(text):\n",
    "  clean = re.sub(r'[^ a-z A-Z 0-9]', \" \", text)\n",
    "  test_word = word_tokenize(clean)\n",
    "  test_word = [w.lower() for w in test_word]\n",
    "  test_ls = word_tockenizer.texts_to_sequences(test_word)\n",
    "  print(test_word)\n",
    "  #Check for unknown words\n",
    "  if [] in test_ls:\n",
    "    test_ls = list(filter(None, test_ls))\n",
    "    \n",
    "  test_ls = np.array(test_ls).reshape(1, len(test_ls))\n",
    " \n",
    "  x = padding_doc(test_ls, max_len)\n",
    "  \n",
    "  pred = model.predict_proba(x)\n",
    "  \n",
    "  \n",
    "  return pred"
   ]
  },
  {
   "cell_type": "code",
   "execution_count": 36,
   "metadata": {},
   "outputs": [],
   "source": [
    "def get_final_output(pred, classes):\n",
    "  predictions = pred[0]\n",
    " \n",
    "  classes = np.array(classes)\n",
    "  ids = np.argsort(-predictions)\n",
    "  classes = classes[ids]\n",
    "  predictions = -np.sort(-predictions)\n",
    " \n",
    "  for i in range(pred.shape[1]):\n",
    "    print(\"%s has confidence = %s\" % (classes[i], (predictions[i])))"
   ]
  },
  {
   "cell_type": "code",
   "execution_count": 40,
   "metadata": {},
   "outputs": [
    {
     "name": "stdout",
     "output_type": "stream",
     "text": [
      "['what', 'flights', 'travel', 'from', 'las', 'vegas', 'to', 'los', 'angeles']\n",
      "atis_flight has confidence = 0.9436016\n",
      "atis_abbreviation has confidence = 0.033948895\n",
      "atis_ground_service has confidence = 0.007946702\n",
      "atis_airline has confidence = 0.005920276\n",
      "atis_airfare has confidence = 0.005878211\n",
      "atis_aircraft has confidence = 0.0023915332\n",
      "atis_flight_time has confidence = 0.00029803955\n",
      "atis_quantity has confidence = 1.474762e-05\n"
     ]
    }
   ],
   "source": [
    "Text=\"what flights travel from las vegas to los angeles \"\n",
    "pred=predictions(Text)\n",
    "get_final_output(pred,unique_intent)"
   ]
  },
  {
   "cell_type": "code",
   "execution_count": null,
   "metadata": {},
   "outputs": [],
   "source": []
  },
  {
   "cell_type": "code",
   "execution_count": null,
   "metadata": {},
   "outputs": [],
   "source": []
  }
 ],
 "metadata": {
  "kernelspec": {
   "display_name": "Python 3",
   "language": "python",
   "name": "python3"
  },
  "language_info": {
   "codemirror_mode": {
    "name": "ipython",
    "version": 3
   },
   "file_extension": ".py",
   "mimetype": "text/x-python",
   "name": "python",
   "nbconvert_exporter": "python",
   "pygments_lexer": "ipython3",
   "version": "3.8.5"
  }
 },
 "nbformat": 4,
 "nbformat_minor": 4
}
